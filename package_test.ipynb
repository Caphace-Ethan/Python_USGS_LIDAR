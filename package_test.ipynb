{
 "cells": [
  {
   "cell_type": "markdown",
   "source": [
    "## Testing the Developed USGS_LIDAR Package"
   ],
   "metadata": {
    "collapsed": false
   }
  },
  {
   "cell_type": "markdown",
   "source": [
    "### Importing necessary library and developed packages"
   ],
   "metadata": {
    "collapsed": false
   }
  },
  {
   "cell_type": "code",
   "execution_count": 5,
   "metadata": {
    "collapsed": true
   },
   "outputs": [],
   "source": [
    "import geopandas as gpd\n",
    "from shapely.geometry import Polygon\n",
    "import pdal\n",
    "\n",
    "from usgs_lidar_package import GetData\n",
    "from IPython.display import Markdown, display, Image\n"
   ]
  },
  {
   "cell_type": "code",
   "execution_count": 6,
   "outputs": [
    {
     "name": "stdout",
     "output_type": "stream",
     "text": [
      "POLYGON((-10436887.43333523 5148706.389047224, -10436887.43333523 5149217.145836507, -10435905.484106943 5149217.145836507, -10435905.484106943 5148706.389047224, -10436887.43333523 5148706.389047224))\n",
      "Successfully read pipeline json file\n",
      "POLYGON((-10436887.43333523 5148706.389047224, -10436887.43333523 5149217.145836507, -10435905.484106943 5149217.145836507, -10435905.484106943 5148706.389047224, -10436887.43333523 5148706.389047224))\n",
      "Successfully read pipeline json file\n"
     ]
    }
   ],
   "source": [
    "fetcher = GetData(epsg=4326, metadata_filename=\"usgs3dep_region_data\")\n",
    "MINX, MINY, MAXX, MAXY = [-93.756155, 41.918015, -93.747334, 41.921429]\n",
    "\n",
    "polygon = Polygon(((MINX, MINY), (MINX, MAXY),\n",
    "                 (MAXX, MAXY), (MAXX, MINY), (MINX, MINY)))\n",
    "# print(polygon)\n",
    "fetch = fetcher.get_data(polygon, [\"IA_FullState\"])"
   ],
   "metadata": {
    "collapsed": false,
    "pycharm": {
     "name": "#%%\n"
    }
   }
  },
  {
   "cell_type": "code",
   "execution_count": 19,
   "outputs": [
    {
     "name": "stdout",
     "output_type": "stream",
     "text": [
      "        elevation                    geometry\n",
      "0          318.49  POINT (-93.74734 41.92142)\n",
      "1          318.37  POINT (-93.74735 41.92142)\n",
      "2          318.41  POINT (-93.74736 41.92142)\n",
      "3          318.15  POINT (-93.74748 41.92143)\n",
      "4          318.29  POINT (-93.74747 41.92142)\n",
      "...           ...                         ...\n",
      "401572     318.04  POINT (-93.74811 41.92141)\n",
      "401573     318.10  POINT (-93.74790 41.92143)\n",
      "401574     317.77  POINT (-93.74821 41.92141)\n",
      "401575     317.88  POINT (-93.74823 41.92141)\n",
      "401576     317.95  POINT (-93.74810 41.92143)\n",
      "\n",
      "[401577 rows x 2 columns]\n"
     ]
    }
   ],
   "source": [
    "geo_data_dict = fetch[0]['geo_data']\n",
    "print(geo_data_dict)"
   ],
   "metadata": {
    "collapsed": false,
    "pycharm": {
     "name": "#%%\n"
    }
   }
  },
  {
   "cell_type": "code",
   "execution_count": null,
   "outputs": [],
   "source": [
    "df = gpd.GeoDataFrame(columns=[\"elevation\", \"geometry\"])\n",
    "df['elevation'] = geo_data_dict.elevation\n",
    "df['geometry'] = geo_data_dict.geometry\n",
    "df = df.set_geometry(\"geometry\")\n",
    "# df.set_crs(epsg=self.output_epsg, inplace=True)\n",
    "df"
   ],
   "metadata": {
    "collapsed": false,
    "pycharm": {
     "name": "#%%\n"
    }
   }
  },
  {
   "cell_type": "markdown",
   "source": [
    "#### The Output geo-dataframe is as shown above."
   ],
   "metadata": {
    "collapsed": false,
    "pycharm": {
     "name": "#%% md\n"
    }
   }
  },
  {
   "cell_type": "code",
   "execution_count": null,
   "outputs": [],
   "source": [],
   "metadata": {
    "collapsed": false,
    "pycharm": {
     "name": "#%%\n"
    }
   }
  }
 ],
 "metadata": {
  "kernelspec": {
   "name": "pycharm-85b9e503",
   "language": "python",
   "display_name": "PyCharm (Python_USGS_LIDAR)"
  },
  "language_info": {
   "codemirror_mode": {
    "name": "ipython",
    "version": 2
   },
   "file_extension": ".py",
   "mimetype": "text/x-python",
   "name": "python",
   "nbconvert_exporter": "python",
   "pygments_lexer": "ipython2",
   "version": "2.7.6"
  }
 },
 "nbformat": 4,
 "nbformat_minor": 0
}