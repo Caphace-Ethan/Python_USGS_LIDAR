{
 "cells": [
  {
   "cell_type": "code",
   "execution_count": 6,
   "metadata": {
    "collapsed": true
   },
   "outputs": [],
   "source": [
    "import geopandas as gpd\n",
    "from shapely.geometry import Polygon\n",
    "import pdal\n",
    "\n",
    "from usgs_lidar_package import GetData\n",
    "from IPython.display import Markdown, display, Image\n"
   ]
  },
  {
   "cell_type": "code",
   "execution_count": 7,
   "outputs": [
    {
     "name": "stdout",
     "output_type": "stream",
     "text": [
      "POLYGON((-10436887.43333523 5148706.389047224, -10436887.43333523 5149217.145836507, -10435905.484106943 5149217.145836507, -10435905.484106943 5148706.389047224, -10436887.43333523 5148706.389047224))\n",
      "Successfully read pipeline json file\n"
     ]
    }
   ],
   "source": [
    "fetcher = GetData(epsg=4326, metadata_filename=\"usgs3dep_region_data\")\n",
    "MINX, MINY, MAXX, MAXY = [-93.756155, 41.918015, -93.747334, 41.921429]\n",
    "\n",
    "polygon = Polygon(((MINX, MINY), (MINX, MAXY),\n",
    "                 (MAXX, MAXY), (MAXX, MINY), (MINX, MINY)))\n",
    "# print(polygon)\n",
    "fetch = fetcher.get_data(polygon, [\"IA_FullState\"])"
   ],
   "metadata": {
    "collapsed": false,
    "pycharm": {
     "name": "#%%\n"
    }
   }
  },
  {
   "cell_type": "code",
   "execution_count": 8,
   "outputs": [
    {
     "name": "stdout",
     "output_type": "stream",
     "text": [
      "{'year': nan, 'region': 'IA_FullState', 'geo_data':         elevation                    geometry\n",
      "0          317.84  POINT (-93.74739 41.92107)\n",
      "1          318.14  POINT (-93.74737 41.92107)\n",
      "2          318.04  POINT (-93.74737 41.92106)\n",
      "3          317.90  POINT (-93.74741 41.92107)\n",
      "4          317.87  POINT (-93.74749 41.92107)\n",
      "...           ...                         ...\n",
      "401572     318.04  POINT (-93.74811 41.92141)\n",
      "401573     318.10  POINT (-93.74790 41.92143)\n",
      "401574     317.77  POINT (-93.74821 41.92141)\n",
      "401575     317.88  POINT (-93.74823 41.92141)\n",
      "401576     317.95  POINT (-93.74810 41.92143)\n",
      "\n",
      "[401577 rows x 2 columns]}\n"
     ]
    }
   ],
   "source": [
    "print(fetch[0])"
   ],
   "metadata": {
    "collapsed": false,
    "pycharm": {
     "name": "#%%\n"
    }
   }
  },
  {
   "cell_type": "code",
   "execution_count": null,
   "outputs": [],
   "source": [],
   "metadata": {
    "collapsed": false,
    "pycharm": {
     "name": "#%%\n"
    }
   }
  }
 ],
 "metadata": {
  "kernelspec": {
   "name": "pycharm-85b9e503",
   "language": "python",
   "display_name": "PyCharm (Python_USGS_LIDAR)"
  },
  "language_info": {
   "codemirror_mode": {
    "name": "ipython",
    "version": 2
   },
   "file_extension": ".py",
   "mimetype": "text/x-python",
   "name": "python",
   "nbconvert_exporter": "python",
   "pygments_lexer": "ipython2",
   "version": "2.7.6"
  }
 },
 "nbformat": 4,
 "nbformat_minor": 0
}