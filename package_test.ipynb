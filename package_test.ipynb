{
 "cells": [
  {
   "cell_type": "code",
   "execution_count": 15,
   "metadata": {
    "collapsed": true
   },
   "outputs": [],
   "source": [
    "import geopandas as gpd\n",
    "import sys, os\n",
    "\n",
    "from shapely.geometry import Polygon\n",
    "import pdal\n",
    "\n",
    "from usgs_lidar_package import GetData\n",
    "# from IPython.display import Markdown, display, Image\n"
   ]
  },
  {
   "cell_type": "code",
   "execution_count": 1,
   "outputs": [
    {
     "ename": "NameError",
     "evalue": "name 'GetData' is not defined",
     "output_type": "error",
     "traceback": [
      "\u001B[0;31m---------------------------------------------------------------------------\u001B[0m",
      "\u001B[0;31mNameError\u001B[0m                                 Traceback (most recent call last)",
      "\u001B[0;32m/tmp/ipykernel_161717/168209214.py\u001B[0m in \u001B[0;36m<module>\u001B[0;34m\u001B[0m\n\u001B[0;32m----> 1\u001B[0;31m \u001B[0mfetcher\u001B[0m \u001B[0;34m=\u001B[0m \u001B[0mGetData\u001B[0m\u001B[0;34m(\u001B[0m\u001B[0mepsg\u001B[0m\u001B[0;34m=\u001B[0m\u001B[0;36m4326\u001B[0m\u001B[0;34m,\u001B[0m \u001B[0mmetadata_filename\u001B[0m\u001B[0;34m=\u001B[0m\u001B[0;34m\"usgs3dep_region_data\"\u001B[0m\u001B[0;34m)\u001B[0m\u001B[0;34m\u001B[0m\u001B[0;34m\u001B[0m\u001B[0m\n\u001B[0m\u001B[1;32m      2\u001B[0m \u001B[0mMINX\u001B[0m\u001B[0;34m,\u001B[0m \u001B[0mMINY\u001B[0m\u001B[0;34m,\u001B[0m \u001B[0mMAXX\u001B[0m\u001B[0;34m,\u001B[0m \u001B[0mMAXY\u001B[0m \u001B[0;34m=\u001B[0m \u001B[0;34m[\u001B[0m\u001B[0;34m-\u001B[0m\u001B[0;36m93.756155\u001B[0m\u001B[0;34m,\u001B[0m \u001B[0;36m41.918015\u001B[0m\u001B[0;34m,\u001B[0m \u001B[0;34m-\u001B[0m\u001B[0;36m93.747334\u001B[0m\u001B[0;34m,\u001B[0m \u001B[0;36m41.921429\u001B[0m\u001B[0;34m]\u001B[0m\u001B[0;34m\u001B[0m\u001B[0;34m\u001B[0m\u001B[0m\n\u001B[1;32m      3\u001B[0m \u001B[0;34m\u001B[0m\u001B[0m\n\u001B[1;32m      4\u001B[0m polygon = Polygon(((MINX, MINY), (MINX, MAXY),\n\u001B[1;32m      5\u001B[0m                  (MAXX, MAXY), (MAXX, MINY), (MINX, MINY)))\n",
      "\u001B[0;31mNameError\u001B[0m: name 'GetData' is not defined"
     ]
    }
   ],
   "source": [
    "fetcher = GetData(epsg=4326, metadata_filename=\"usgs3dep_region_data\")\n",
    "MINX, MINY, MAXX, MAXY = [-93.756155, 41.918015, -93.747334, 41.921429]\n",
    "\n",
    "polygon = Polygon(((MINX, MINY), (MINX, MAXY),\n",
    "                 (MAXX, MAXY), (MAXX, MINY), (MINX, MINY)))\n",
    "# print(polygon)\n",
    "fetch = fetcher.get_data(polygon, [\"IA_FullState\"])\n",
    "fetch"
   ],
   "metadata": {
    "collapsed": false,
    "pycharm": {
     "name": "#%%\n"
    }
   }
  }
 ],
 "metadata": {
  "kernelspec": {
   "name": "pycharm-85b9e503",
   "language": "python",
   "display_name": "PyCharm (Python_USGS_LIDAR)"
  },
  "language_info": {
   "codemirror_mode": {
    "name": "ipython",
    "version": 2
   },
   "file_extension": ".py",
   "mimetype": "text/x-python",
   "name": "python",
   "nbconvert_exporter": "python",
   "pygments_lexer": "ipython2",
   "version": "2.7.6"
  }
 },
 "nbformat": 4,
 "nbformat_minor": 0
}