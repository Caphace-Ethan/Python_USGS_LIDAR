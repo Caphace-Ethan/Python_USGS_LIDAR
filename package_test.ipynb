{
 "cells": [
  {
   "cell_type": "markdown",
   "source": [
    "## Testing the Developed USGS_LIDAR Package"
   ],
   "metadata": {
    "collapsed": false
   }
  },
  {
   "cell_type": "markdown",
   "source": [
    "### Importing necessary library and developed packages"
   ],
   "metadata": {
    "collapsed": false
   }
  },
  {
   "cell_type": "code",
   "execution_count": 55,
   "metadata": {
    "collapsed": true
   },
   "outputs": [],
   "source": [
    "import geopandas as gpd\n",
    "from shapely.geometry import Polygon\n",
    "import pdal\n",
    "\n",
    "from usgs_lidar_package import GetData\n",
    "from IPython.display import Markdown, display, Image\n"
   ]
  },
  {
   "cell_type": "code",
   "execution_count": 54,
   "outputs": [
    {
     "name": "stdout",
     "output_type": "stream",
     "text": [
      "POLYGON((-10436887.43333523 5148706.389047224, -10436887.43333523 5149217.145836507, -10435905.484106943 5149217.145836507, -10435905.484106943 5148706.389047224, -10436887.43333523 5148706.389047224))\n",
      "Successfully read pipeline json file\n"
     ]
    }
   ],
   "source": [
    "fetcher = GetData(epsg=4326, metadata_filename=\"usgs3dep_region_data\")\n",
    "MINX, MINY, MAXX, MAXY = [-93.756155, 41.918015, -93.747334, 41.921429]\n",
    "\n",
    "polygon = Polygon(((MINX, MINY), (MINX, MAXY),\n",
    "                 (MAXX, MAXY), (MAXX, MINY), (MINX, MINY)))\n",
    "# print(polygon)\n",
    "fetch = fetcher.get_data(polygon, [\"IA_FullState\"])"
   ],
   "metadata": {
    "collapsed": false,
    "pycharm": {
     "name": "#%%\n"
    }
   }
  },
  {
   "cell_type": "code",
   "execution_count": 62,
   "outputs": [
    {
     "name": "stdout",
     "output_type": "stream",
     "text": [
      "        elevation                    geometry\n",
      "0          316.96  POINT (-93.74736 41.91989)\n",
      "1          317.01  POINT (-93.74735 41.91988)\n",
      "2          316.95  POINT (-93.74736 41.91988)\n",
      "3          317.04  POINT (-93.74737 41.91989)\n",
      "4          316.90  POINT (-93.74739 41.91989)\n",
      "...           ...                         ...\n",
      "401572     317.41  POINT (-93.74831 41.92106)\n",
      "401573     317.39  POINT (-93.74828 41.92106)\n",
      "401574     317.36  POINT (-93.74827 41.92107)\n",
      "401575     317.34  POINT (-93.74827 41.92107)\n",
      "401576     317.46  POINT (-93.74823 41.92107)\n",
      "\n",
      "[401577 rows x 2 columns]\n"
     ]
    }
   ],
   "source": [
    "geo_data_dict = fetch[0]['geo_data']\n",
    "print(geo_data_dict)"
   ],
   "metadata": {
    "collapsed": false,
    "pycharm": {
     "name": "#%%\n"
    }
   }
  },
  {
   "cell_type": "code",
   "execution_count": 63,
   "outputs": [
    {
     "data": {
      "text/plain": "   elevation                    geometry\n0     316.96  POINT (-93.74736 41.91989)\n1     317.01  POINT (-93.74735 41.91988)\n2     316.95  POINT (-93.74736 41.91988)\n3     317.04  POINT (-93.74737 41.91989)\n4     316.90  POINT (-93.74739 41.91989)",
      "text/html": "<div>\n<style scoped>\n    .dataframe tbody tr th:only-of-type {\n        vertical-align: middle;\n    }\n\n    .dataframe tbody tr th {\n        vertical-align: top;\n    }\n\n    .dataframe thead th {\n        text-align: right;\n    }\n</style>\n<table border=\"1\" class=\"dataframe\">\n  <thead>\n    <tr style=\"text-align: right;\">\n      <th></th>\n      <th>elevation</th>\n      <th>geometry</th>\n    </tr>\n  </thead>\n  <tbody>\n    <tr>\n      <th>0</th>\n      <td>316.96</td>\n      <td>POINT (-93.74736 41.91989)</td>\n    </tr>\n    <tr>\n      <th>1</th>\n      <td>317.01</td>\n      <td>POINT (-93.74735 41.91988)</td>\n    </tr>\n    <tr>\n      <th>2</th>\n      <td>316.95</td>\n      <td>POINT (-93.74736 41.91988)</td>\n    </tr>\n    <tr>\n      <th>3</th>\n      <td>317.04</td>\n      <td>POINT (-93.74737 41.91989)</td>\n    </tr>\n    <tr>\n      <th>4</th>\n      <td>316.90</td>\n      <td>POINT (-93.74739 41.91989)</td>\n    </tr>\n  </tbody>\n</table>\n</div>"
     },
     "execution_count": 63,
     "metadata": {},
     "output_type": "execute_result"
    }
   ],
   "source": [
    "df = gpd.GeoDataFrame(columns=[\"elevation\", \"geometry\"])\n",
    "df['elevation'] = geo_data_dict.elevation\n",
    "df['geometry'] = geo_data_dict.geometry\n",
    "df = df.set_geometry(\"geometry\")\n",
    "# df.set_crs(epsg=self.output_epsg, inplace=True)\n",
    "df.head()"
   ],
   "metadata": {
    "collapsed": false,
    "pycharm": {
     "name": "#%%\n"
    }
   }
  },
  {
   "cell_type": "markdown",
   "source": [
    "#### The Output geo-dataframe is as shown above."
   ],
   "metadata": {
    "collapsed": false,
    "pycharm": {
     "name": "#%% md\n"
    }
   }
  },
  {
   "cell_type": "code",
   "execution_count": 66,
   "outputs": [
    {
     "ename": "AttributeError",
     "evalue": "type object 'GetData' has no attribute 'visualization_3D'",
     "output_type": "error",
     "traceback": [
      "\u001B[0;31m---------------------------------------------------------------------------\u001B[0m",
      "\u001B[0;31mAttributeError\u001B[0m                            Traceback (most recent call last)",
      "\u001B[0;32m/tmp/ipykernel_7149/1288162970.py\u001B[0m in \u001B[0;36m<module>\u001B[0;34m\u001B[0m\n\u001B[0;32m----> 1\u001B[0;31m \u001B[0mGetData\u001B[0m\u001B[0;34m.\u001B[0m\u001B[0mvisualization_3D\u001B[0m\u001B[0;34m(\u001B[0m\u001B[0mdf\u001B[0m\u001B[0;34m)\u001B[0m\u001B[0;34m\u001B[0m\u001B[0;34m\u001B[0m\u001B[0m\n\u001B[0m\u001B[1;32m      2\u001B[0m \u001B[0;31m# data_object.visualization_3D(df)\u001B[0m\u001B[0;34m\u001B[0m\u001B[0;34m\u001B[0m\u001B[0;34m\u001B[0m\u001B[0m\n",
      "\u001B[0;31mAttributeError\u001B[0m: type object 'GetData' has no attribute 'visualization_3D'"
     ]
    }
   ],
   "source": [
    "GetData.visualization_3D(df)\n",
    "# data_object.visualization_3D(df)"
   ],
   "metadata": {
    "collapsed": false,
    "pycharm": {
     "name": "#%%\n"
    }
   }
  }
 ],
 "metadata": {
  "kernelspec": {
   "name": "pycharm-85b9e503",
   "language": "python",
   "display_name": "PyCharm (Python_USGS_LIDAR)"
  },
  "language_info": {
   "codemirror_mode": {
    "name": "ipython",
    "version": 2
   },
   "file_extension": ".py",
   "mimetype": "text/x-python",
   "name": "python",
   "nbconvert_exporter": "python",
   "pygments_lexer": "ipython2",
   "version": "2.7.6"
  }
 },
 "nbformat": 4,
 "nbformat_minor": 0
}