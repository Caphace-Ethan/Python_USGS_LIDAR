{
 "cells": [
  {
   "cell_type": "code",
   "execution_count": 2,
   "metadata": {
    "collapsed": true
   },
   "outputs": [],
   "source": [
    "import geopandas as gpd\n",
    "import sys, os\n",
    "\n",
    "from shapely.geometry import Polygon\n",
    "import pdal\n",
    "\n",
    "from usgs_lidar_package import GetData\n",
    "# from IPython.display import Markdown, display, Image\n"
   ]
  },
  {
   "cell_type": "code",
   "execution_count": null,
   "outputs": [],
   "source": [
    "fetcher = GetData(epsg=4326, metadata_filename=\"usgs3dep_region_data\")\n",
    "MINX, MINY, MAXX, MAXY = [-93.756155, 41.918015, -93.747334, 41.921429]\n",
    "\n",
    "polygon = Polygon(((MINX, MINY), (MINX, MAXY),\n",
    "                 (MAXX, MAXY), (MAXX, MINY), (MINX, MINY)))\n",
    "# print(polygon)\n",
    "fetch = fetcher.get_data(polygon, [\"IA_FullState\"])\n",
    "fetch"
   ],
   "metadata": {
    "collapsed": false,
    "pycharm": {
     "name": "#%%\n",
     "is_executing": true
    }
   }
  }
 ],
 "metadata": {
  "kernelspec": {
   "name": "pycharm-85b9e503",
   "language": "python",
   "display_name": "PyCharm (Python_USGS_LIDAR)"
  },
  "language_info": {
   "codemirror_mode": {
    "name": "ipython",
    "version": 2
   },
   "file_extension": ".py",
   "mimetype": "text/x-python",
   "name": "python",
   "nbconvert_exporter": "python",
   "pygments_lexer": "ipython2",
   "version": "2.7.6"
  }
 },
 "nbformat": 4,
 "nbformat_minor": 0
}