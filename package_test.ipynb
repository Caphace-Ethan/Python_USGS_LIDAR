{
 "cells": [
  {
   "cell_type": "code",
   "execution_count": 13,
   "metadata": {
    "collapsed": true
   },
   "outputs": [],
   "source": [
    "import geopandas as gpd\n",
    "import sys, os\n",
    "\n",
    "from shapely.geometry import Polygon\n",
    "import pdal\n",
    "\n",
    "from usgs_lidar_package import GetData\n",
    "# from IPython.display import Markdown, display, Image\n"
   ]
  },
  {
   "cell_type": "code",
   "execution_count": 14,
   "outputs": [
    {
     "name": "stdout",
     "output_type": "stream",
     "text": [
      "POLYGON((-10436887.43333523 5148706.389047224, -10436887.43333523 5149217.145836507, -10435905.484106943 5149217.145836507, -10435905.484106943 5148706.389047224, -10436887.43333523 5148706.389047224))\n",
      "Successfully read pipeline json file\n",
      "[{'year': nan, 'region': 'IA_FullState', 'geo_data':         elevation                    geometry\n",
      "0          318.49  POINT (-93.74734 41.92142)\n",
      "1          318.37  POINT (-93.74735 41.92142)\n",
      "2          318.41  POINT (-93.74736 41.92142)\n",
      "3          318.15  POINT (-93.74748 41.92143)\n",
      "4          318.29  POINT (-93.74747 41.92142)\n",
      "...           ...                         ...\n",
      "401572     318.04  POINT (-93.74811 41.92141)\n",
      "401573     318.10  POINT (-93.74790 41.92143)\n",
      "401574     317.77  POINT (-93.74821 41.92141)\n",
      "401575     317.88  POINT (-93.74823 41.92141)\n",
      "401576     317.95  POINT (-93.74810 41.92143)\n",
      "\n",
      "[401577 rows x 2 columns]}]\n"
     ]
    }
   ],
   "source": [
    "fetcher = GetData(epsg=4326, metadata_filename=\"usgs3dep_region_data\")\n",
    "MINX, MINY, MAXX, MAXY = [-93.756155, 41.918015, -93.747334, 41.921429]\n",
    "\n",
    "polygon = Polygon(((MINX, MINY), (MINX, MAXY),\n",
    "                 (MAXX, MAXY), (MAXX, MINY), (MINX, MINY)))\n",
    "# print(polygon)\n",
    "print(fetcher.get_data(polygon, [\"IA_FullState\"]))\n",
    "\n"
   ],
   "metadata": {
    "collapsed": false,
    "pycharm": {
     "name": "#%%\n"
    }
   }
  }
 ],
 "metadata": {
  "kernelspec": {
   "display_name": "Python 3",
   "language": "python",
   "name": "python3"
  },
  "language_info": {
   "codemirror_mode": {
    "name": "ipython",
    "version": 2
   },
   "file_extension": ".py",
   "mimetype": "text/x-python",
   "name": "python",
   "nbconvert_exporter": "python",
   "pygments_lexer": "ipython2",
   "version": "2.7.6"
  }
 },
 "nbformat": 4,
 "nbformat_minor": 0
}